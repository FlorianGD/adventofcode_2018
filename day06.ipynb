{
 "cells": [
  {
   "cell_type": "markdown",
   "metadata": {},
   "source": [
    "# Day 6 of AoC 2018: Chronal Coordinates\n",
    "https://adventofcode.com/2018/day/6"
   ]
  },
  {
   "cell_type": "markdown",
   "metadata": {},
   "source": [
    "## Part one"
   ]
  },
  {
   "cell_type": "code",
   "execution_count": 1,
   "metadata": {},
   "outputs": [],
   "source": [
    "import pandas as pd\n",
    "import numpy as np\n",
    "import altair as alt\n",
    "from sklearn.neighbors import KNeighborsClassifier\n",
    "from scipy.spatial import distance"
   ]
  },
  {
   "cell_type": "code",
   "execution_count": 2,
   "metadata": {},
   "outputs": [],
   "source": [
    "points = pd.read_csv('day06_input.txt', names=['x', 'y'])"
   ]
  },
  {
   "cell_type": "code",
   "execution_count": 3,
   "metadata": {},
   "outputs": [
    {
     "data": {
      "text/plain": [
       "50"
      ]
     },
     "execution_count": 3,
     "metadata": {},
     "output_type": "execute_result"
    }
   ],
   "source": [
    "len(points)"
   ]
  },
  {
   "cell_type": "code",
   "execution_count": 4,
   "metadata": {},
   "outputs": [],
   "source": [
    "points['label'] = range(len(points))"
   ]
  },
  {
   "cell_type": "code",
   "execution_count": 5,
   "metadata": {},
   "outputs": [
    {
     "data": {
      "application/vnd.vegalite.v2+json": {
       "$schema": "https://vega.github.io/schema/vega-lite/v2.6.0.json",
       "config": {
        "view": {
         "height": 300,
         "width": 400
        }
       },
       "data": {
        "name": "data-fdc7de0c273093a48de9a165a4c04493"
       },
       "datasets": {
        "data-fdc7de0c273093a48de9a165a4c04493": [
         {
          "label": 0,
          "x": 45,
          "y": 315
         },
         {
          "label": 1,
          "x": 258,
          "y": 261
         },
         {
          "label": 2,
          "x": 336,
          "y": 208
         },
         {
          "label": 3,
          "x": 160,
          "y": 322
         },
         {
          "label": 4,
          "x": 347,
          "y": 151
         },
         {
          "label": 5,
          "x": 321,
          "y": 243
         },
         {
          "label": 6,
          "x": 232,
          "y": 148
         },
         {
          "label": 7,
          "x": 48,
          "y": 202
         },
         {
          "label": 8,
          "x": 78,
          "y": 161
         },
         {
          "label": 9,
          "x": 307,
          "y": 230
         },
         {
          "label": 10,
          "x": 170,
          "y": 73
         },
         {
          "label": 11,
          "x": 43,
          "y": 73
         },
         {
          "label": 12,
          "x": 74,
          "y": 248
         },
         {
          "label": 13,
          "x": 177,
          "y": 296
         },
         {
          "label": 14,
          "x": 330,
          "y": 266
         },
         {
          "label": 15,
          "x": 314,
          "y": 272
         },
         {
          "label": 16,
          "x": 175,
          "y": 291
         },
         {
          "label": 17,
          "x": 75,
          "y": 142
         },
         {
          "label": 18,
          "x": 278,
          "y": 193
         },
         {
          "label": 19,
          "x": 279,
          "y": 337
         },
         {
          "label": 20,
          "x": 228,
          "y": 46
         },
         {
          "label": 21,
          "x": 211,
          "y": 164
         },
         {
          "label": 22,
          "x": 131,
          "y": 100
         },
         {
          "label": 23,
          "x": 110,
          "y": 338
         },
         {
          "label": 24,
          "x": 336,
          "y": 338
         },
         {
          "label": 25,
          "x": 231,
          "y": 353
         },
         {
          "label": 26,
          "x": 184,
          "y": 213
         },
         {
          "label": 27,
          "x": 300,
          "y": 56
         },
         {
          "label": 28,
          "x": 99,
          "y": 231
         },
         {
          "label": 29,
          "x": 119,
          "y": 159
         },
         {
          "label": 30,
          "x": 180,
          "y": 349
         },
         {
          "label": 31,
          "x": 130,
          "y": 193
         },
         {
          "label": 32,
          "x": 308,
          "y": 107
         },
         {
          "label": 33,
          "x": 140,
          "y": 40
         },
         {
          "label": 34,
          "x": 222,
          "y": 188
         },
         {
          "label": 35,
          "x": 356,
          "y": 44
         },
         {
          "label": 36,
          "x": 73,
          "y": 107
         },
         {
          "label": 37,
          "x": 304,
          "y": 313
         },
         {
          "label": 38,
          "x": 199,
          "y": 238
         },
         {
          "label": 39,
          "x": 344,
          "y": 158
         },
         {
          "label": 40,
          "x": 49,
          "y": 225
         },
         {
          "label": 41,
          "x": 64,
          "y": 117
         },
         {
          "label": 42,
          "x": 145,
          "y": 178
         },
         {
          "label": 43,
          "x": 188,
          "y": 265
         },
         {
          "label": 44,
          "x": 270,
          "y": 215
         },
         {
          "label": 45,
          "x": 48,
          "y": 181
         },
         {
          "label": 46,
          "x": 213,
          "y": 159
         },
         {
          "label": 47,
          "x": 174,
          "y": 311
         },
         {
          "label": 48,
          "x": 114,
          "y": 231
         },
         {
          "label": 49,
          "x": 325,
          "y": 162
         }
        ]
       },
       "encoding": {
        "text": {
         "field": "label",
         "type": "nominal"
        },
        "x": {
         "field": "x",
         "type": "quantitative"
        },
        "y": {
         "field": "y",
         "type": "quantitative"
        }
       },
       "mark": {
        "color": "red",
        "type": "text"
       }
      },
      "image/png": "[encoded data removed]",
      "text/plain": [
       "<VegaLite 2 object>\n",
       "\n",
       "If you see this message, it means the renderer has not been properly enabled\n",
       "for the frontend that you are using. For more information, see\n",
       "https://altair-viz.github.io/user_guide/troubleshooting.html\n"
      ]
     },
     "execution_count": 5,
     "metadata": {},
     "output_type": "execute_result"
    }
   ],
   "source": [
    "labels = alt.Chart(points).mark_text(color='red').encode(\n",
    "    x=alt.X('x:Q'),\n",
    "    y=alt.Y('y:Q'),\n",
    "    text=alt.Text('label:N')\n",
    ")\n",
    "labels"
   ]
  },
  {
   "cell_type": "markdown",
   "metadata": {},
   "source": [
    "I will make a classifier with k nearest neighbors, using 1 neighbor and Manhattan distance. And then I will use this classifier to predict all points on a grid."
   ]
  },
  {
   "cell_type": "code",
   "execution_count": 6,
   "metadata": {},
   "outputs": [],
   "source": [
    "knn = KNeighborsClassifier(n_neighbors=1, metric=\"manhattan\")"
   ]
  },
  {
   "cell_type": "code",
   "execution_count": 7,
   "metadata": {},
   "outputs": [
    {
     "data": {
      "text/plain": [
       "KNeighborsClassifier(algorithm='auto', leaf_size=30, metric='manhattan',\n",
       "           metric_params=None, n_jobs=1, n_neighbors=1, p=2,\n",
       "           weights='uniform')"
      ]
     },
     "execution_count": 7,
     "metadata": {},
     "output_type": "execute_result"
    }
   ],
   "source": [
    "knn.fit(points[['x', 'y']].values, np.arange(50))"
   ]
  },
  {
   "cell_type": "markdown",
   "metadata": {},
   "source": [
    "I used [this answer from stackoverflow](https://stackoverflow.com/questions/32208359/is-there-a-multi-dimensional-version-of-arange-linspace-in-numpy) to create the grid"
   ]
  },
  {
   "cell_type": "code",
   "execution_count": 8,
   "metadata": {},
   "outputs": [],
   "source": [
    "x_min, x_max = points.x.min(), points.x.max()\n",
    "y_min, y_max = points.y.min(), points.y.max()\n",
    "grid = np.mgrid[x_min:(x_max+1), y_min:(y_max+1)].reshape(2,-1).T"
   ]
  },
  {
   "cell_type": "code",
   "execution_count": 9,
   "metadata": {},
   "outputs": [
    {
     "data": {
      "text/plain": [
       "(98596, 2)"
      ]
     },
     "execution_count": 9,
     "metadata": {},
     "output_type": "execute_result"
    }
   ],
   "source": [
    "grid.shape"
   ]
  },
  {
   "cell_type": "code",
   "execution_count": 10,
   "metadata": {},
   "outputs": [],
   "source": [
    "predictions = knn.predict(grid)"
   ]
  },
  {
   "cell_type": "code",
   "execution_count": 11,
   "metadata": {},
   "outputs": [],
   "source": [
    "predictions_df = pd.DataFrame({'x':grid[:, 0],\n",
    "                               'y':grid[:, 1],\n",
    "                               'pred':predictions\n",
    "                              })"
   ]
  },
  {
   "cell_type": "code",
   "execution_count": 12,
   "metadata": {},
   "outputs": [],
   "source": [
    "predictions_df.to_csv('day06_grid_predictions.csv', index=False)"
   ]
  },
  {
   "cell_type": "code",
   "execution_count": 13,
   "metadata": {},
   "outputs": [
    {
     "data": {
      "application/vnd.vegalite.v2+json": {
       "$schema": "https://vega.github.io/schema/vega-lite/v2.6.0.json",
       "config": {
        "view": {
         "height": 300,
         "width": 400
        }
       },
       "datasets": {
        "data-fdc7de0c273093a48de9a165a4c04493": [
         {
          "label": 0,
          "x": 45,
          "y": 315
         },
         {
          "label": 1,
          "x": 258,
          "y": 261
         },
         {
          "label": 2,
          "x": 336,
          "y": 208
         },
         {
          "label": 3,
          "x": 160,
          "y": 322
         },
         {
          "label": 4,
          "x": 347,
          "y": 151
         },
         {
          "label": 5,
          "x": 321,
          "y": 243
         },
         {
          "label": 6,
          "x": 232,
          "y": 148
         },
         {
          "label": 7,
          "x": 48,
          "y": 202
         },
         {
          "label": 8,
          "x": 78,
          "y": 161
         },
         {
          "label": 9,
          "x": 307,
          "y": 230
         },
         {
          "label": 10,
          "x": 170,
          "y": 73
         },
         {
          "label": 11,
          "x": 43,
          "y": 73
         },
         {
          "label": 12,
          "x": 74,
          "y": 248
         },
         {
          "label": 13,
          "x": 177,
          "y": 296
         },
         {
          "label": 14,
          "x": 330,
          "y": 266
         },
         {
          "label": 15,
          "x": 314,
          "y": 272
         },
         {
          "label": 16,
          "x": 175,
          "y": 291
         },
         {
          "label": 17,
          "x": 75,
          "y": 142
         },
         {
          "label": 18,
          "x": 278,
          "y": 193
         },
         {
          "label": 19,
          "x": 279,
          "y": 337
         },
         {
          "label": 20,
          "x": 228,
          "y": 46
         },
         {
          "label": 21,
          "x": 211,
          "y": 164
         },
         {
          "label": 22,
          "x": 131,
          "y": 100
         },
         {
          "label": 23,
          "x": 110,
          "y": 338
         },
         {
          "label": 24,
          "x": 336,
          "y": 338
         },
         {
          "label": 25,
          "x": 231,
          "y": 353
         },
         {
          "label": 26,
          "x": 184,
          "y": 213
         },
         {
          "label": 27,
          "x": 300,
          "y": 56
         },
         {
          "label": 28,
          "x": 99,
          "y": 231
         },
         {
          "label": 29,
          "x": 119,
          "y": 159
         },
         {
          "label": 30,
          "x": 180,
          "y": 349
         },
         {
          "label": 31,
          "x": 130,
          "y": 193
         },
         {
          "label": 32,
          "x": 308,
          "y": 107
         },
         {
          "label": 33,
          "x": 140,
          "y": 40
         },
         {
          "label": 34,
          "x": 222,
          "y": 188
         },
         {
          "label": 35,
          "x": 356,
          "y": 44
         },
         {
          "label": 36,
          "x": 73,
          "y": 107
         },
         {
          "label": 37,
          "x": 304,
          "y": 313
         },
         {
          "label": 38,
          "x": 199,
          "y": 238
         },
         {
          "label": 39,
          "x": 344,
          "y": 158
         },
         {
          "label": 40,
          "x": 49,
          "y": 225
         },
         {
          "label": 41,
          "x": 64,
          "y": 117
         },
         {
          "label": 42,
          "x": 145,
          "y": 178
         },
         {
          "label": 43,
          "x": 188,
          "y": 265
         },
         {
          "label": 44,
          "x": 270,
          "y": 215
         },
         {
          "label": 45,
          "x": 48,
          "y": 181
         },
         {
          "label": 46,
          "x": 213,
          "y": 159
         },
         {
          "label": 47,
          "x": 174,
          "y": 311
         },
         {
          "label": 48,
          "x": 114,
          "y": 231
         },
         {
          "label": 49,
          "x": 325,
          "y": 162
         }
        ]
       },
       "layer": [
        {
         "data": {
          "format": {
           "type": "csv"
          },
          "url": "day06_grid_predictions.csv"
         },
         "encoding": {
          "color": {
           "field": "pred",
           "legend": null,
           "scale": {
            "scheme": "category20"
           },
           "type": "nominal"
          },
          "tooltip": {
           "field": "pred",
           "type": "nominal"
          },
          "x": {
           "field": "x",
           "type": "quantitative"
          },
          "y": {
           "field": "y",
           "type": "quantitative"
          }
         },
         "mark": "point"
        },
        {
         "data": {
          "name": "data-fdc7de0c273093a48de9a165a4c04493"
         },
         "encoding": {
          "text": {
           "field": "label",
           "type": "nominal"
          },
          "x": {
           "field": "x",
           "type": "quantitative"
          },
          "y": {
           "field": "y",
           "type": "quantitative"
          }
         },
         "mark": {
          "color": "red",
          "type": "text"
         }
        }
       ]
      },
      "image/png": "[encoded data removed]",
      "text/plain": [
       "<VegaLite 2 object>\n",
       "\n",
       "If you see this message, it means the renderer has not been properly enabled\n",
       "for the frontend that you are using. For more information, see\n",
       "https://altair-viz.github.io/user_guide/troubleshooting.html\n"
      ]
     },
     "execution_count": 13,
     "metadata": {},
     "output_type": "execute_result"
    }
   ],
   "source": [
    "grid_chart = alt.Chart('day06_grid_predictions.csv').mark_point().encode(\n",
    "    x=alt.X('x:Q'),\n",
    "    y=alt.Y('y:Q'),\n",
    "    color=alt.Color('pred:N', legend=None, scale=alt.Scale(scheme='category20')),\n",
    "    tooltip='pred:N'\n",
    ")\n",
    "\n",
    "grid_chart + labels"
   ]
  },
  {
   "cell_type": "markdown",
   "metadata": {},
   "source": [
    "Looks good! The area that seems to be overlapping are due to the fact that there are only 20 colors in the scheme, while I want to plot 50 zones, we can see that they are indeed separated with the tooltip."
   ]
  },
  {
   "cell_type": "markdown",
   "metadata": {},
   "source": [
    "I have to only take into account the finite areas, so any area that \"touches\" the ends has to be dismissed."
   ]
  },
  {
   "cell_type": "code",
   "execution_count": 14,
   "metadata": {},
   "outputs": [],
   "source": [
    "def find_infinite_area(pred, num_labels=50, x_min=x_min, \n",
    "                       x_max=x_max, y_min=y_min, y_max=y_max):\n",
    "    \"\"\"\n",
    "    Returns a set of labels the touches the ends\n",
    "    \"\"\"\n",
    "    infinite_area = set()\n",
    "    x_min\n",
    "    for label in range(num_labels):\n",
    "        label_df = pred.query('pred == @label')\n",
    "        if (x_min in label_df['x'].values) or (x_max in label_df['x'].values)\\\n",
    "          or (y_min in label_df['y'].values) or (y_max in label_df['y'].values):\n",
    "            infinite_area.add(label)\n",
    "    return infinite_area"
   ]
  },
  {
   "cell_type": "code",
   "execution_count": 15,
   "metadata": {},
   "outputs": [
    {
     "name": "stdout",
     "output_type": "stream",
     "text": [
      "{0, 2, 4, 5, 7, 11, 14, 17, 19, 20, 23, 24, 25, 27, 30, 32, 33, 35, 36, 37, 39, 40, 41, 45}\n"
     ]
    }
   ],
   "source": [
    "infinite_area = find_infinite_area(predictions_df)\n",
    "print(infinite_area)"
   ]
  },
  {
   "cell_type": "markdown",
   "metadata": {},
   "source": [
    "I update the dataframe"
   ]
  },
  {
   "cell_type": "code",
   "execution_count": 16,
   "metadata": {},
   "outputs": [],
   "source": [
    "predictions_df['infinite'] = predictions_df['pred'].isin(infinite_area)"
   ]
  },
  {
   "cell_type": "code",
   "execution_count": 17,
   "metadata": {},
   "outputs": [],
   "source": [
    "predictions_df.to_csv('day06_grid_predictions.csv', index=False)"
   ]
  },
  {
   "cell_type": "code",
   "execution_count": 18,
   "metadata": {},
   "outputs": [
    {
     "data": {
      "application/vnd.vegalite.v2+json": {
       "$schema": "https://vega.github.io/schema/vega-lite/v2.6.0.json",
       "config": {
        "view": {
         "height": 300,
         "width": 400
        }
       },
       "datasets": {
        "data-fdc7de0c273093a48de9a165a4c04493": [
         {
          "label": 0,
          "x": 45,
          "y": 315
         },
         {
          "label": 1,
          "x": 258,
          "y": 261
         },
         {
          "label": 2,
          "x": 336,
          "y": 208
         },
         {
          "label": 3,
          "x": 160,
          "y": 322
         },
         {
          "label": 4,
          "x": 347,
          "y": 151
         },
         {
          "label": 5,
          "x": 321,
          "y": 243
         },
         {
          "label": 6,
          "x": 232,
          "y": 148
         },
         {
          "label": 7,
          "x": 48,
          "y": 202
         },
         {
          "label": 8,
          "x": 78,
          "y": 161
         },
         {
          "label": 9,
          "x": 307,
          "y": 230
         },
         {
          "label": 10,
          "x": 170,
          "y": 73
         },
         {
          "label": 11,
          "x": 43,
          "y": 73
         },
         {
          "label": 12,
          "x": 74,
          "y": 248
         },
         {
          "label": 13,
          "x": 177,
          "y": 296
         },
         {
          "label": 14,
          "x": 330,
          "y": 266
         },
         {
          "label": 15,
          "x": 314,
          "y": 272
         },
         {
          "label": 16,
          "x": 175,
          "y": 291
         },
         {
          "label": 17,
          "x": 75,
          "y": 142
         },
         {
          "label": 18,
          "x": 278,
          "y": 193
         },
         {
          "label": 19,
          "x": 279,
          "y": 337
         },
         {
          "label": 20,
          "x": 228,
          "y": 46
         },
         {
          "label": 21,
          "x": 211,
          "y": 164
         },
         {
          "label": 22,
          "x": 131,
          "y": 100
         },
         {
          "label": 23,
          "x": 110,
          "y": 338
         },
         {
          "label": 24,
          "x": 336,
          "y": 338
         },
         {
          "label": 25,
          "x": 231,
          "y": 353
         },
         {
          "label": 26,
          "x": 184,
          "y": 213
         },
         {
          "label": 27,
          "x": 300,
          "y": 56
         },
         {
          "label": 28,
          "x": 99,
          "y": 231
         },
         {
          "label": 29,
          "x": 119,
          "y": 159
         },
         {
          "label": 30,
          "x": 180,
          "y": 349
         },
         {
          "label": 31,
          "x": 130,
          "y": 193
         },
         {
          "label": 32,
          "x": 308,
          "y": 107
         },
         {
          "label": 33,
          "x": 140,
          "y": 40
         },
         {
          "label": 34,
          "x": 222,
          "y": 188
         },
         {
          "label": 35,
          "x": 356,
          "y": 44
         },
         {
          "label": 36,
          "x": 73,
          "y": 107
         },
         {
          "label": 37,
          "x": 304,
          "y": 313
         },
         {
          "label": 38,
          "x": 199,
          "y": 238
         },
         {
          "label": 39,
          "x": 344,
          "y": 158
         },
         {
          "label": 40,
          "x": 49,
          "y": 225
         },
         {
          "label": 41,
          "x": 64,
          "y": 117
         },
         {
          "label": 42,
          "x": 145,
          "y": 178
         },
         {
          "label": 43,
          "x": 188,
          "y": 265
         },
         {
          "label": 44,
          "x": 270,
          "y": 215
         },
         {
          "label": 45,
          "x": 48,
          "y": 181
         },
         {
          "label": 46,
          "x": 213,
          "y": 159
         },
         {
          "label": 47,
          "x": 174,
          "y": 311
         },
         {
          "label": 48,
          "x": 114,
          "y": 231
         },
         {
          "label": 49,
          "x": 325,
          "y": 162
         }
        ]
       },
       "layer": [
        {
         "data": {
          "format": {
           "type": "csv"
          },
          "url": "day06_grid_predictions.csv"
         },
         "encoding": {
          "color": {
           "field": "infinite",
           "type": "ordinal"
          },
          "tooltip": {
           "field": "pred",
           "type": "nominal"
          },
          "x": {
           "field": "x",
           "type": "quantitative"
          },
          "y": {
           "field": "y",
           "type": "quantitative"
          }
         },
         "mark": "point"
        },
        {
         "data": {
          "name": "data-fdc7de0c273093a48de9a165a4c04493"
         },
         "encoding": {
          "text": {
           "field": "label",
           "type": "nominal"
          },
          "x": {
           "field": "x",
           "type": "quantitative"
          },
          "y": {
           "field": "y",
           "type": "quantitative"
          }
         },
         "mark": {
          "color": "red",
          "type": "text"
         }
        }
       ]
      },
      "image/png": "[encoded data removed]",
      "text/plain": [
       "<VegaLite 2 object>\n",
       "\n",
       "If you see this message, it means the renderer has not been properly enabled\n",
       "for the frontend that you are using. For more information, see\n",
       "https://altair-viz.github.io/user_guide/troubleshooting.html\n"
      ]
     },
     "execution_count": 18,
     "metadata": {},
     "output_type": "execute_result"
    }
   ],
   "source": [
    "grid_chart.encode(color=alt.Color('infinite:O')) + labels"
   ]
  },
  {
   "cell_type": "markdown",
   "metadata": {},
   "source": [
    "OK, it seems to have done a good job! Let's now filter those areas and count the number of values, which will give the total area. I will have to take care of points being at an equal distance of 2 data points."
   ]
  },
  {
   "cell_type": "code",
   "execution_count": 19,
   "metadata": {},
   "outputs": [
    {
     "data": {
      "text/plain": [
       "10    3960\n",
       "1     3661\n",
       "6     3454\n",
       "22    3433\n",
       "48    2588\n",
       "Name: pred, dtype: int64"
      ]
     },
     "execution_count": 19,
     "metadata": {},
     "output_type": "execute_result"
    }
   ],
   "source": [
    "predictions_df.query('not infinite')['pred'].value_counts()[:5]"
   ]
  },
  {
   "cell_type": "markdown",
   "metadata": {},
   "source": [
    "So, the area 10 is the largest. The value does not take into account that I should not count the points that are at the same distance of 2 labels."
   ]
  },
  {
   "cell_type": "code",
   "execution_count": 20,
   "metadata": {},
   "outputs": [],
   "source": [
    "area10 = predictions_df.query('pred == 10').loc[:, ['x', 'y']].values"
   ]
  },
  {
   "cell_type": "code",
   "execution_count": 21,
   "metadata": {},
   "outputs": [],
   "source": [
    "def center_coord(id):\n",
    "    return points.loc[id, ['x', 'y']].values.reshape(-1, 2)\n",
    "\n",
    "\n",
    "def matrix_neighbor(ids=None):\n",
    "    if ids is None:\n",
    "        # This is from visual inspection\n",
    "        ids = [33, 20, 22, 42, 46]\n",
    "    all_neighbors = np.zeros(shape=(len(ids), 2))\n",
    "    for i, id in enumerate(ids):\n",
    "        all_neighbors[i, :] = center_coord(id)\n",
    "    return all_neighbors"
   ]
  },
  {
   "cell_type": "code",
   "execution_count": 22,
   "metadata": {},
   "outputs": [],
   "source": [
    "coords_neighbors_10 = matrix_neighbor()"
   ]
  },
  {
   "cell_type": "code",
   "execution_count": 23,
   "metadata": {},
   "outputs": [],
   "source": [
    "distances_neighbors = distance.cdist(area10, coords_neighbors_10, metric='cityblock')"
   ]
  },
  {
   "cell_type": "code",
   "execution_count": 24,
   "metadata": {},
   "outputs": [],
   "source": [
    "distances_10 = distance.cdist(area10, center_coord(10), metric='cityblock')"
   ]
  },
  {
   "cell_type": "code",
   "execution_count": 25,
   "metadata": {},
   "outputs": [],
   "source": [
    "differences = distances_neighbors - distances_10"
   ]
  },
  {
   "cell_type": "code",
   "execution_count": 26,
   "metadata": {},
   "outputs": [
    {
     "data": {
      "text/plain": [
       "66"
      ]
     },
     "execution_count": 26,
     "metadata": {},
     "output_type": "execute_result"
    }
   ],
   "source": [
    "np.sum(np.any(differences == 0, axis=1))"
   ]
  },
  {
   "cell_type": "markdown",
   "metadata": {},
   "source": [
    "There are 66 ties in the distances, so we must substract those from the area."
   ]
  },
  {
   "cell_type": "code",
   "execution_count": 27,
   "metadata": {},
   "outputs": [
    {
     "name": "stdout",
     "output_type": "stream",
     "text": [
      "Solution for part 1: 3894\n"
     ]
    }
   ],
   "source": [
    "print(f'Solution for part 1: {len(area10) - 66}')"
   ]
  },
  {
   "cell_type": "markdown",
   "metadata": {},
   "source": [
    "## Part 2"
   ]
  },
  {
   "cell_type": "markdown",
   "metadata": {},
   "source": [
    "Let's compute the distance for our grid of points to all the points."
   ]
  },
  {
   "cell_type": "code",
   "execution_count": 28,
   "metadata": {},
   "outputs": [],
   "source": [
    "all_distances = distance.cdist(grid, points.loc[:, ['x', 'y']].values, metric='cityblock')"
   ]
  },
  {
   "cell_type": "markdown",
   "metadata": {},
   "source": [
    "Now, we need to sum all the distances."
   ]
  },
  {
   "cell_type": "code",
   "execution_count": 29,
   "metadata": {},
   "outputs": [],
   "source": [
    "sum_distances = np.sum(all_distances, axis=1)"
   ]
  },
  {
   "cell_type": "markdown",
   "metadata": {},
   "source": [
    "We need to find and count the values that are less than 10000."
   ]
  },
  {
   "cell_type": "code",
   "execution_count": 30,
   "metadata": {},
   "outputs": [
    {
     "name": "stdout",
     "output_type": "stream",
     "text": [
      "Solution for part 2: 39398\n"
     ]
    }
   ],
   "source": [
    "print(f'Solution for part 2: {np.sum(sum_distances < 10000)}')"
   ]
  },
  {
   "cell_type": "markdown",
   "metadata": {},
   "source": [
    "Just for fun, plot this"
   ]
  },
  {
   "cell_type": "code",
   "execution_count": 31,
   "metadata": {},
   "outputs": [],
   "source": [
    "predictions_df['sum_dist'] = sum_distances\n",
    "predictions_df['close'] = sum_distances < 10000"
   ]
  },
  {
   "cell_type": "code",
   "execution_count": 32,
   "metadata": {},
   "outputs": [],
   "source": [
    "predictions_df.to_csv('day06_grid_predictions.csv', index=False)"
   ]
  },
  {
   "cell_type": "code",
   "execution_count": 33,
   "metadata": {},
   "outputs": [
    {
     "data": {
      "application/vnd.vegalite.v2+json": {
       "$schema": "https://vega.github.io/schema/vega-lite/v2.6.0.json",
       "config": {
        "view": {
         "height": 300,
         "width": 400
        }
       },
       "datasets": {
        "data-fdc7de0c273093a48de9a165a4c04493": [
         {
          "label": 0,
          "x": 45,
          "y": 315
         },
         {
          "label": 1,
          "x": 258,
          "y": 261
         },
         {
          "label": 2,
          "x": 336,
          "y": 208
         },
         {
          "label": 3,
          "x": 160,
          "y": 322
         },
         {
          "label": 4,
          "x": 347,
          "y": 151
         },
         {
          "label": 5,
          "x": 321,
          "y": 243
         },
         {
          "label": 6,
          "x": 232,
          "y": 148
         },
         {
          "label": 7,
          "x": 48,
          "y": 202
         },
         {
          "label": 8,
          "x": 78,
          "y": 161
         },
         {
          "label": 9,
          "x": 307,
          "y": 230
         },
         {
          "label": 10,
          "x": 170,
          "y": 73
         },
         {
          "label": 11,
          "x": 43,
          "y": 73
         },
         {
          "label": 12,
          "x": 74,
          "y": 248
         },
         {
          "label": 13,
          "x": 177,
          "y": 296
         },
         {
          "label": 14,
          "x": 330,
          "y": 266
         },
         {
          "label": 15,
          "x": 314,
          "y": 272
         },
         {
          "label": 16,
          "x": 175,
          "y": 291
         },
         {
          "label": 17,
          "x": 75,
          "y": 142
         },
         {
          "label": 18,
          "x": 278,
          "y": 193
         },
         {
          "label": 19,
          "x": 279,
          "y": 337
         },
         {
          "label": 20,
          "x": 228,
          "y": 46
         },
         {
          "label": 21,
          "x": 211,
          "y": 164
         },
         {
          "label": 22,
          "x": 131,
          "y": 100
         },
         {
          "label": 23,
          "x": 110,
          "y": 338
         },
         {
          "label": 24,
          "x": 336,
          "y": 338
         },
         {
          "label": 25,
          "x": 231,
          "y": 353
         },
         {
          "label": 26,
          "x": 184,
          "y": 213
         },
         {
          "label": 27,
          "x": 300,
          "y": 56
         },
         {
          "label": 28,
          "x": 99,
          "y": 231
         },
         {
          "label": 29,
          "x": 119,
          "y": 159
         },
         {
          "label": 30,
          "x": 180,
          "y": 349
         },
         {
          "label": 31,
          "x": 130,
          "y": 193
         },
         {
          "label": 32,
          "x": 308,
          "y": 107
         },
         {
          "label": 33,
          "x": 140,
          "y": 40
         },
         {
          "label": 34,
          "x": 222,
          "y": 188
         },
         {
          "label": 35,
          "x": 356,
          "y": 44
         },
         {
          "label": 36,
          "x": 73,
          "y": 107
         },
         {
          "label": 37,
          "x": 304,
          "y": 313
         },
         {
          "label": 38,
          "x": 199,
          "y": 238
         },
         {
          "label": 39,
          "x": 344,
          "y": 158
         },
         {
          "label": 40,
          "x": 49,
          "y": 225
         },
         {
          "label": 41,
          "x": 64,
          "y": 117
         },
         {
          "label": 42,
          "x": 145,
          "y": 178
         },
         {
          "label": 43,
          "x": 188,
          "y": 265
         },
         {
          "label": 44,
          "x": 270,
          "y": 215
         },
         {
          "label": 45,
          "x": 48,
          "y": 181
         },
         {
          "label": 46,
          "x": 213,
          "y": 159
         },
         {
          "label": 47,
          "x": 174,
          "y": 311
         },
         {
          "label": 48,
          "x": 114,
          "y": 231
         },
         {
          "label": 49,
          "x": 325,
          "y": 162
         }
        ]
       },
       "layer": [
        {
         "data": {
          "format": {
           "type": "csv"
          },
          "url": "day06_grid_predictions.csv"
         },
         "encoding": {
          "color": {
           "bin": true,
           "field": "sum_dist",
           "type": "quantitative"
          },
          "tooltip": [
           {
            "field": "sum_dist",
            "type": "quantitative"
           },
           {
            "field": "close",
            "type": "ordinal"
           }
          ],
          "x": {
           "field": "x",
           "type": "quantitative"
          },
          "y": {
           "field": "y",
           "type": "quantitative"
          }
         },
         "mark": "point"
        },
        {
         "data": {
          "name": "data-fdc7de0c273093a48de9a165a4c04493"
         },
         "encoding": {
          "text": {
           "field": "label",
           "type": "nominal"
          },
          "x": {
           "field": "x",
           "type": "quantitative"
          },
          "y": {
           "field": "y",
           "type": "quantitative"
          }
         },
         "mark": {
          "color": "red",
          "type": "point"
         }
        }
       ]
      },
      "image/png": "[encoded data removed]",
      "text/plain": [
       "<VegaLite 2 object>\n",
       "\n",
       "If you see this message, it means the renderer has not been properly enabled\n",
       "for the frontend that you are using. For more information, see\n",
       "https://altair-viz.github.io/user_guide/troubleshooting.html\n"
      ]
     },
     "execution_count": 33,
     "metadata": {},
     "output_type": "execute_result"
    }
   ],
   "source": [
    "grid_chart.encode(color=alt.Color('sum_dist:Q', bin=True),\n",
    "                  tooltip=['sum_dist:Q', 'close:O']) + labels.mark_point(color='red')"
   ]
  }
 ],
 "metadata": {
  "kernelspec": {
   "display_name": "Python 3",
   "language": "python",
   "name": "python3"
  },
  "language_info": {
   "codemirror_mode": {
    "name": "ipython",
    "version": 3
   },
   "file_extension": ".py",
   "mimetype": "text/x-python",
   "name": "python",
   "nbconvert_exporter": "python",
   "pygments_lexer": "ipython3",
   "version": "3.6.7"
  }
 },
 "nbformat": 4,
 "nbformat_minor": 2
}
